import os
import shutil

root_dir = "C:/Users/91981/Desktop/SeventhSemester/XAI Proj/Reconstructed DaTSCANs/PPMI"

for root, dirs, files in os.walk(root_dir):
    for filename in files:
        if filename.endswith(".dcm"):
            subject_folder = root.split(os.path.sep)[-3]
            destination_folder = os.path.join(root_dir, subject_folder)
            if not os.path.exists(destination_folder):
                os.makedirs(destination_folder)
            source_path = os.path.join(root, filename)
            destination_path = os.path.join(destination_folder, filename)
            shutil.copy(source_path, destination_path)
            print(f"Copied {filename} to {destination_folder}")
