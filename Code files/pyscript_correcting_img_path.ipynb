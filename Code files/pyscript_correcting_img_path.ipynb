{
 "cells": [
  {
   "cell_type": "code",
   "execution_count": null,
   "id": "aa966643-2643-41f7-be70-a06a04e60f8d",
   "metadata": {},
   "outputs": [],
   "source": [
    "import os\n",
    "import shutil\n",
    "\n",
    "root_dir = \"C:/Users/91981/Desktop/SeventhSemester/XAI Proj/Reconstructed DaTSCANs/PPMI\"\n",
    "\n",
    "for root, dirs, files in os.walk(root_dir):\n",
    "    for filename in files:\n",
    "        if filename.endswith(\".dcm\"):\n",
    "            subject_folder = root.split(os.path.sep)[-3]\n",
    "            destination_folder = os.path.join(root_dir, subject_folder)\n",
    "            if not os.path.exists(destination_folder):\n",
    "                os.makedirs(destination_folder)\n",
    "            source_path = os.path.join(root, filename)\n",
    "            destination_path = os.path.join(destination_folder, filename)\n",
    "            shutil.copy(source_path, destination_path)\n",
    "            print(f\"Copied {filename} to {destination_folder}\")"
   ]
  }
 ],
 "metadata": {
  "kernelspec": {
   "display_name": "Python 3",
   "language": "python",
   "name": "python3"
  },
  "language_info": {
   "codemirror_mode": {
    "name": "ipython",
    "version": 3
   },
   "file_extension": ".py",
   "mimetype": "text/x-python",
   "name": "python",
   "nbconvert_exporter": "python",
   "pygments_lexer": "ipython3",
   "version": "3.11.2"
  }
 },
 "nbformat": 4,
 "nbformat_minor": 5
}
